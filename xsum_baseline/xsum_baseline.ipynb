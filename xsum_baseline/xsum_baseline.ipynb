{
 "cells": [
  {
   "cell_type": "code",
   "execution_count": null,
   "id": "047e2614-786d-4108-8a38-6cff06242796",
   "metadata": {},
   "outputs": [],
   "source": [
    "from transformers import pipeline\n",
    "from transformers import AutoTokenizer\n",
    "from transformers.pipelines.base import KeyDataset\n",
    "from datasets import load_dataset\n",
    "import os\n",
    "import tqdm"
   ]
  },
  {
   "cell_type": "code",
   "execution_count": null,
   "id": "51866823-ff1c-4936-b3f9-048ee0edeea3",
   "metadata": {},
   "outputs": [],
   "source": [
    "## Setting to use the 0th GPU\n",
    "# os.environ[\"CUDA_VISIBLE_DEVICES\"] = \"1\"\n",
    "\n",
    "## Setting to use the bart-large-cnn model for summarization\n",
    "# summarizer = pipeline(\"summarization\")\n",
    "tokenizer = AutoTokenizer.from_pretrained('facebook/bart-large-xsum', model_max_len=1024)\n",
    "\n",
    "summarizer = pipeline(\"summarization\", model=\"facebook/bart-large-xsum\", tokenizer=tokenizer, device=0)"
   ]
  },
  {
   "cell_type": "code",
   "execution_count": null,
   "id": "191215c2-4598-4326-8c07-6d672d7600a1",
   "metadata": {},
   "outputs": [],
   "source": [
    "xsum = load_dataset(\"xsum\")"
   ]
  },
  {
   "cell_type": "code",
   "execution_count": null,
   "id": "d92aaf0c-2464-4ac3-9963-8d8167744936",
   "metadata": {},
   "outputs": [],
   "source": [
    "data = xsum['test'][0]\n",
    "summary_text = summarizer(data['document'], max_length=50, min_length=5, truncation=True)[0]['summary_text']\n",
    "with open(os.path.join('bart-large-xsum-summaries', data['id'])+'.model_summary', 'w') as model_summary:\n",
    "    model_summary.write(summary_text)"
   ]
  },
  {
   "cell_type": "code",
   "execution_count": null,
   "id": "8463b967-d1bb-4bd9-a0d5-096099f0555a",
   "metadata": {},
   "outputs": [],
   "source": [
    "os.makedirs('bart-large-xsum-summaries', exist_ok=True)"
   ]
  },
  {
   "cell_type": "code",
   "execution_count": null,
   "id": "1d866f18-46e8-4a40-9080-d8208a143dec",
   "metadata": {
    "tags": []
   },
   "outputs": [],
   "source": [
    "for data in tqdm.tqdm(xsum['test']):\n",
    "    if os.path.exists('bart-large-xsum-summaries/'+data['id']+'.model_summary'):\n",
    "        continue\n",
    "    print(data['id'])"
   ]
  },
  {
   "cell_type": "code",
   "execution_count": null,
   "id": "35ff308c-2050-4dfd-ab71-a0ebb7c9dcd8",
   "metadata": {},
   "outputs": [],
   "source": [
    "summary_text.encode('ascii', 'ignore').decode()"
   ]
  },
  {
   "cell_type": "code",
   "execution_count": null,
   "id": "6ee987b3-3bee-47d5-8a49-3b6a618b73a0",
   "metadata": {
    "tags": []
   },
   "outputs": [],
   "source": [
    "model_summaries = {}\n",
    "for data in tqdm.tqdm(xsum['test']):\n",
    "    if os.path.exists('bart-large-xsum-summaries/'+data['id']+'.model_summary'):\n",
    "        continue\n",
    "    summary_text = summarizer(data['document'], max_length=50, min_length=5, truncation=True)[0]['summary_text']\n",
    "    with open(os.path.join('bart-large-xsum-summaries', data['id'])+'.model_summary', 'w') as model_summary:\n",
    "        model_summary.write(summary_text.encode('ascii', 'ignore').decode())\n",
    "        # Required for ascii errors...\n",
    "#     model_summaries[data['id']] = summary_text"
   ]
  },
  {
   "cell_type": "code",
   "execution_count": null,
   "id": "71b558ef-4b52-4708-b51e-385521f8d235",
   "metadata": {},
   "outputs": [],
   "source": []
  }
 ],
 "metadata": {
  "kernelspec": {
   "display_name": "cs287_project",
   "language": "python",
   "name": "cs287_project"
  },
  "language_info": {
   "codemirror_mode": {
    "name": "ipython",
    "version": 3
   },
   "file_extension": ".py",
   "mimetype": "text/x-python",
   "name": "python",
   "nbconvert_exporter": "python",
   "pygments_lexer": "ipython3",
   "version": "3.9.7"
  }
 },
 "nbformat": 4,
 "nbformat_minor": 5
}
